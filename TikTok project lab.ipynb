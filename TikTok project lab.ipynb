{
 "cells": [
  {
   "cell_type": "markdown",
   "metadata": {
    "id": "DtNBZFHO3M7n"
   },
   "source": [
    "# **TikTok Project**\n",
    "**Course 4 - The Power of Statistics**"
   ]
  },
  {
   "cell_type": "markdown",
   "metadata": {
    "id": "j-u8hxWUk64w"
   },
   "source": [
    "You are a data professional at TikTok. The current project is reaching its midpoint; a project proposal, Python coding work, and exploratory data analysis have all been completed.\n",
    "\n",
    "The team has reviewed the results of the exploratory data analysis and the previous executive summary the team prepared. You received an email from Orion Rainier, Data Scientist at TikTok, with your next assignment: determine and conduct the necessary hypothesis tests and statistical analysis for the TikTok classification project.\n",
    "\n",
    "A notebook was structured and prepared to help you in this project. Please complete the following questions."
   ]
  },
  {
   "cell_type": "markdown",
   "metadata": {
    "id": "rgSbVJvomcVa"
   },
   "source": [
    "\n",
    "# **Course 4 End-of-course project: Data exploration and hypothesis testing**\n",
    "\n",
    "In this activity, you will explore the data provided and conduct hypothesis testing.\n",
    "<br/>\n",
    "\n",
    "**The purpose** of this project is to demostrate knowledge of how to prepare, create, and analyze hypothesis tests.\n",
    "\n",
    "**The goal** is to apply descriptive and inferential statistics, probability distributions, and hypothesis testing in Python.\n",
    "<br/>\n",
    "\n",
    "*This activity has three parts:*\n",
    "\n",
    "**Part 1:** Imports and data loading\n",
    "* What data packages will be necessary for hypothesis testing?\n",
    "\n",
    "**Part 2:** Conduct hypothesis testing\n",
    "* How will descriptive statistics help you analyze your data?\n",
    "\n",
    "* How will you formulate your null hypothesis and alternative hypothesis?\n",
    "\n",
    "**Part 3:** Communicate insights with stakeholders\n",
    "\n",
    "* What key business insight(s) emerge from your hypothesis test?\n",
    "\n",
    "* What business recommendations do you propose based on your results?\n",
    "\n",
    "<br/>\n",
    "\n",
    "Follow the instructions and answer the questions below to complete the activity. Then, complete an executive summary using the questions listed on the PACE Strategy Document.\n",
    "\n",
    "Be sure to complete this activity before moving on. The next course item will provide you with a completed exemplar to compare to your own work.\n",
    "\n"
   ]
  },
  {
   "cell_type": "markdown",
   "metadata": {
    "id": "qwXf61KLibBj"
   },
   "source": [
    "# **Data exploration and hypothesis testing**"
   ]
  },
  {
   "cell_type": "markdown",
   "metadata": {
    "id": "N8qrn_UAzX6j"
   },
   "source": [
    "<img src=\"images/Pace.png\" width=\"100\" height=\"100\" align=left>\n",
    "\n",
    "# **PACE stages**"
   ]
  },
  {
   "cell_type": "markdown",
   "metadata": {
    "id": "pGaoqOgZiiR_"
   },
   "source": [
    "Throughout these project notebooks, you'll see references to the problem-solving framework PACE. The following notebook components are labeled with the respective PACE stage: Plan, Analyze, Construct, and Execute."
   ]
  },
  {
   "cell_type": "markdown",
   "metadata": {
    "id": "Bb1HNu3FzX6k"
   },
   "source": [
    "<img src=\"images/Plan.png\" width=\"100\" height=\"100\" align=left>\n",
    "\n",
    "\n",
    "## **PACE: Plan**\n",
    "\n",
    "Consider the questions in your PACE Strategy Document and those below to craft your response.\n",
    "\n",
    "1. What is your research question for this data project? Later on, you will need to formulate the null and alternative hypotheses as the first step of your hypothesis test. Consider your research question now, at the start of this task."
   ]
  },
  {
   "cell_type": "markdown",
   "metadata": {
    "id": "iHhO44UenHcC"
   },
   "source": [
    "1) Do videos from verified accounts and videos unverified accounts have different average view counts?\n",
    "\n",
    "2) Is there a relationship between the account being verified and the associated videos' view counts?"
   ]
  },
  {
   "cell_type": "markdown",
   "metadata": {
    "id": "Kp3uDhhSg_qu"
   },
   "source": [
    "*Complete the following steps to perform statistical analysis of your data:*"
   ]
  },
  {
   "cell_type": "markdown",
   "metadata": {
    "id": "xgQEdIN7f1Jq"
   },
   "source": [
    "### **Task 1. Imports and Data Loading**"
   ]
  },
  {
   "cell_type": "markdown",
   "metadata": {
    "id": "ehehvUzFj0-e"
   },
   "source": [
    "Import packages and libraries needed to compute descriptive statistics and conduct a hypothesis test."
   ]
  },
  {
   "cell_type": "markdown",
   "metadata": {
    "id": "e6cryW4WgiIL"
   },
   "source": [
    "<details>\n",
    "  <summary><h4><strong>Hint:</strong></h4></summary>\n",
    "\n",
    "Be sure to import `pandas`, `numpy`, `matplotlib.pyplot`, `seaborn`, and `scipy`.\n",
    "\n",
    "</details>"
   ]
  },
  {
   "cell_type": "code",
   "execution_count": 42,
   "metadata": {
    "id": "1Q-GL2UrgWWG"
   },
   "outputs": [],
   "source": [
    "# Import packages for data manipulation\n",
    "### YOUR CODE HERE ###\n",
    "import pandas as pd\n",
    "import numpy as np\n",
    "\n",
    "# Import packages for data visualization\n",
    "### YOUR CODE HERE ###\n",
    "import matplotlib.pyplot as plt\n",
    "import seaborn as sb\n",
    "\n",
    "# Import packages for statistical analysis/hypothesis testing\n",
    "### YOUR CODE HERE ###\n",
    "from scipy import stats\n",
    "from scipy.stats import ttest_ind"
   ]
  },
  {
   "cell_type": "markdown",
   "metadata": {
    "id": "IHSa7TiTkg78"
   },
   "source": [
    "Load the dataset.\n",
    "\n",
    "**Note:** As shown in this cell, the dataset has been automatically loaded in for you. You do not need to download the .csv file, or provide more code, in order to access the dataset and proceed with this lab. Please continue with this activity by completing the following instructions."
   ]
  },
  {
   "cell_type": "code",
   "execution_count": 43,
   "metadata": {
    "id": "HLhV9YACjlC4"
   },
   "outputs": [],
   "source": [
    "# Load dataset into dataframe\n",
    "data = pd.read_csv(\"tiktok_dataset.csv\")"
   ]
  },
  {
   "cell_type": "markdown",
   "metadata": {
    "id": "c8paWsdKzX6o"
   },
   "source": [
    "<img src=\"images/Analyze.png\" width=\"100\" height=\"100\" align=left>\n",
    "\n",
    "<img src=\"images/Construct.png\" width=\"100\" height=\"100\" align=left>\n",
    "\n",
    "## **PACE: Analyze and Construct**\n",
    "\n",
    "Consider the questions in your PACE Strategy Document and those below to craft your response:\n",
    "1. Data professionals use descriptive statistics for Exploratory Data Analysis. How can computing descriptive statistics help you learn more about your data in this stage of your analysis?\n"
   ]
  },
  {
   "cell_type": "markdown",
   "metadata": {
    "id": "AKY3ms4LsEsU"
   },
   "source": [
    "Descriptive statistics are often helpful since they enable you to rapidly examine and comprehend vast amounts of data. Here, calculating descriptive statistics enables you to rapidly determine the average video_view_count values for every verified_status group in the sample data."
   ]
  },
  {
   "cell_type": "markdown",
   "metadata": {
    "id": "UKhYTdVhf5B2"
   },
   "source": [
    "### **Task 2. Data exploration**\n",
    "\n",
    "Use descriptive statistics to conduct Exploratory Data Analysis (EDA).\n",
    "\n"
   ]
  },
  {
   "cell_type": "markdown",
   "metadata": {
    "id": "aBLu1iBMr6Bd"
   },
   "source": [
    "<details>\n",
    "  <summary><h4><strong>Hint:</strong></h4></summary>\n",
    "\n",
    "Refer back to *Self Review Descriptive Statistics* for this step-by-step proccess.\n",
    "\n",
    "</details>"
   ]
  },
  {
   "cell_type": "markdown",
   "metadata": {
    "id": "JBHl90JIRuXk"
   },
   "source": [
    "Inspect the first five rows of the dataframe."
   ]
  },
  {
   "cell_type": "code",
   "execution_count": 44,
   "metadata": {
    "id": "2rfk95MLp4a_"
   },
   "outputs": [
    {
     "name": "stdout",
     "output_type": "stream",
     "text": [
      "   # claim_status    video_id  video_duration_sec  \\\n",
      "0  1        claim  7017666017                  59   \n",
      "1  2        claim  4014381136                  32   \n",
      "2  3        claim  9859838091                  31   \n",
      "3  4        claim  1866847991                  25   \n",
      "4  5        claim  7105231098                  19   \n",
      "\n",
      "                            video_transcription_text verified_status  \\\n",
      "0  someone shared with me that drone deliveries a...    not verified   \n",
      "1  someone shared with me that there are more mic...    not verified   \n",
      "2  someone shared with me that american industria...    not verified   \n",
      "3  someone shared with me that the metro of st. p...    not verified   \n",
      "4  someone shared with me that the number of busi...    not verified   \n",
      "\n",
      "  author_ban_status  video_view_count  video_like_count  video_share_count  \\\n",
      "0      under review          343296.0           19425.0              241.0   \n",
      "1            active          140877.0           77355.0            19034.0   \n",
      "2            active          902185.0           97690.0             2858.0   \n",
      "3            active          437506.0          239954.0            34812.0   \n",
      "4            active           56167.0           34987.0             4110.0   \n",
      "\n",
      "   video_download_count  video_comment_count  \n",
      "0                   1.0                  0.0  \n",
      "1                1161.0                684.0  \n",
      "2                 833.0                329.0  \n",
      "3                1234.0                584.0  \n",
      "4                 547.0                152.0  \n"
     ]
    }
   ],
   "source": [
    "# Display first few rows\n",
    "### YOUR CODE HERE ###\n",
    "print(data.head(5))"
   ]
  },
  {
   "cell_type": "code",
   "execution_count": 45,
   "metadata": {
    "id": "70vpvcv1gArp"
   },
   "outputs": [
    {
     "name": "stdout",
     "output_type": "stream",
     "text": [
      "                  #      video_id  video_duration_sec  video_view_count  \\\n",
      "count  19382.000000  1.938200e+04        19382.000000      19084.000000   \n",
      "mean    9691.500000  5.627454e+09           32.421732     254708.558688   \n",
      "std     5595.245794  2.536440e+09           16.229967     322893.280814   \n",
      "min        1.000000  1.234959e+09            5.000000         20.000000   \n",
      "25%     4846.250000  3.430417e+09           18.000000       4942.500000   \n",
      "50%     9691.500000  5.618664e+09           32.000000       9954.500000   \n",
      "75%    14536.750000  7.843960e+09           47.000000     504327.000000   \n",
      "max    19382.000000  9.999873e+09           60.000000     999817.000000   \n",
      "\n",
      "       video_like_count  video_share_count  video_download_count  \\\n",
      "count      19084.000000       19084.000000          19084.000000   \n",
      "mean       84304.636030       16735.248323           1049.429627   \n",
      "std       133420.546814       32036.174350           2004.299894   \n",
      "min            0.000000           0.000000              0.000000   \n",
      "25%          810.750000         115.000000              7.000000   \n",
      "50%         3403.500000         717.000000             46.000000   \n",
      "75%       125020.000000       18222.000000           1156.250000   \n",
      "max       657830.000000      256130.000000          14994.000000   \n",
      "\n",
      "       video_comment_count  \n",
      "count         19084.000000  \n",
      "mean            349.312146  \n",
      "std             799.638865  \n",
      "min               0.000000  \n",
      "25%               1.000000  \n",
      "50%               9.000000  \n",
      "75%             292.000000  \n",
      "max            9599.000000  \n"
     ]
    }
   ],
   "source": [
    "# Generate a table of descriptive statistics about the data\n",
    "### YOUR CODE HERE ###\n",
    "print(data.describe())"
   ]
  },
  {
   "cell_type": "markdown",
   "metadata": {
    "id": "9OpeNQDdyIT6"
   },
   "source": [
    "Check for and handle missing values."
   ]
  },
  {
   "cell_type": "code",
   "execution_count": 46,
   "metadata": {
    "id": "BrunHcfa7xnT"
   },
   "outputs": [
    {
     "name": "stdout",
     "output_type": "stream",
     "text": [
      "<bound method DataFrame.isnull of            # claim_status    video_id  video_duration_sec  \\\n",
      "0          1        claim  7017666017                  59   \n",
      "1          2        claim  4014381136                  32   \n",
      "2          3        claim  9859838091                  31   \n",
      "3          4        claim  1866847991                  25   \n",
      "4          5        claim  7105231098                  19   \n",
      "...      ...          ...         ...                 ...   \n",
      "19377  19378          NaN  7578226840                  21   \n",
      "19378  19379          NaN  6079236179                  53   \n",
      "19379  19380          NaN  2565539685                  10   \n",
      "19380  19381          NaN  2969178540                  24   \n",
      "19381  19382          NaN  8132759688                  13   \n",
      "\n",
      "                                video_transcription_text verified_status  \\\n",
      "0      someone shared with me that drone deliveries a...    not verified   \n",
      "1      someone shared with me that there are more mic...    not verified   \n",
      "2      someone shared with me that american industria...    not verified   \n",
      "3      someone shared with me that the metro of st. p...    not verified   \n",
      "4      someone shared with me that the number of busi...    not verified   \n",
      "...                                                  ...             ...   \n",
      "19377                                                NaN    not verified   \n",
      "19378                                                NaN    not verified   \n",
      "19379                                                NaN        verified   \n",
      "19380                                                NaN    not verified   \n",
      "19381                                                NaN    not verified   \n",
      "\n",
      "      author_ban_status  video_view_count  video_like_count  \\\n",
      "0          under review          343296.0           19425.0   \n",
      "1                active          140877.0           77355.0   \n",
      "2                active          902185.0           97690.0   \n",
      "3                active          437506.0          239954.0   \n",
      "4                active           56167.0           34987.0   \n",
      "...                 ...               ...               ...   \n",
      "19377            active               NaN               NaN   \n",
      "19378            active               NaN               NaN   \n",
      "19379      under review               NaN               NaN   \n",
      "19380            active               NaN               NaN   \n",
      "19381            active               NaN               NaN   \n",
      "\n",
      "       video_share_count  video_download_count  video_comment_count  \n",
      "0                  241.0                   1.0                  0.0  \n",
      "1                19034.0                1161.0                684.0  \n",
      "2                 2858.0                 833.0                329.0  \n",
      "3                34812.0                1234.0                584.0  \n",
      "4                 4110.0                 547.0                152.0  \n",
      "...                  ...                   ...                  ...  \n",
      "19377                NaN                   NaN                  NaN  \n",
      "19378                NaN                   NaN                  NaN  \n",
      "19379                NaN                   NaN                  NaN  \n",
      "19380                NaN                   NaN                  NaN  \n",
      "19381                NaN                   NaN                  NaN  \n",
      "\n",
      "[19382 rows x 12 columns]>\n",
      "----------Sum of missing value----------\n",
      "#                             0\n",
      "claim_status                298\n",
      "video_id                      0\n",
      "video_duration_sec            0\n",
      "video_transcription_text    298\n",
      "verified_status               0\n",
      "author_ban_status             0\n",
      "video_view_count            298\n",
      "video_like_count            298\n",
      "video_share_count           298\n",
      "video_download_count        298\n",
      "video_comment_count         298\n",
      "dtype: int64\n"
     ]
    }
   ],
   "source": [
    "# Check for missing values\n",
    "### YOUR CODE HERE ###\n",
    "print(data.isnull)\n",
    "print(\"----------Sum of missing value----------\")\n",
    "print(data.isnull().sum())"
   ]
  },
  {
   "cell_type": "code",
   "execution_count": 56,
   "metadata": {
    "id": "SHSj1Hma914I"
   },
   "outputs": [],
   "source": [
    "# Drop rows with missing values\n",
    "\n",
    "### YOUR CODE HERE ###\n",
    "data = data.dropna(axis=0)\n"
   ]
  },
  {
   "cell_type": "code",
   "execution_count": 57,
   "metadata": {},
   "outputs": [
    {
     "name": "stdout",
     "output_type": "stream",
     "text": [
      "#                           0\n",
      "claim_status                0\n",
      "video_id                    0\n",
      "video_duration_sec          0\n",
      "video_transcription_text    0\n",
      "verified_status             0\n",
      "author_ban_status           0\n",
      "video_view_count            0\n",
      "video_like_count            0\n",
      "video_share_count           0\n",
      "video_download_count        0\n",
      "video_comment_count         0\n",
      "dtype: int64\n"
     ]
    }
   ],
   "source": [
    "print(data.isnull().sum())"
   ]
  },
  {
   "cell_type": "code",
   "execution_count": 58,
   "metadata": {
    "id": "ZYUF3xap9_Fa"
   },
   "outputs": [
    {
     "name": "stdout",
     "output_type": "stream",
     "text": [
      "After handling missing values\n",
      "   # claim_status    video_id  video_duration_sec  \\\n",
      "0  1        claim  7017666017                  59   \n",
      "1  2        claim  4014381136                  32   \n",
      "2  3        claim  9859838091                  31   \n",
      "3  4        claim  1866847991                  25   \n",
      "4  5        claim  7105231098                  19   \n",
      "\n",
      "                            video_transcription_text verified_status  \\\n",
      "0  someone shared with me that drone deliveries a...    not verified   \n",
      "1  someone shared with me that there are more mic...    not verified   \n",
      "2  someone shared with me that american industria...    not verified   \n",
      "3  someone shared with me that the metro of st. p...    not verified   \n",
      "4  someone shared with me that the number of busi...    not verified   \n",
      "\n",
      "  author_ban_status  video_view_count  video_like_count  video_share_count  \\\n",
      "0      under review          343296.0           19425.0              241.0   \n",
      "1            active          140877.0           77355.0            19034.0   \n",
      "2            active          902185.0           97690.0             2858.0   \n",
      "3            active          437506.0          239954.0            34812.0   \n",
      "4            active           56167.0           34987.0             4110.0   \n",
      "\n",
      "   video_download_count  video_comment_count  \n",
      "0                   1.0                  0.0  \n",
      "1                1161.0                684.0  \n",
      "2                 833.0                329.0  \n",
      "3                1234.0                584.0  \n",
      "4                 547.0                152.0  \n"
     ]
    }
   ],
   "source": [
    "# Display first few rows after handling missing values\n",
    "\n",
    "### YOUR CODE HERE ###\n",
    "print(\"After handling missing values\")\n",
    "print(data.head())"
   ]
  },
  {
   "cell_type": "markdown",
   "metadata": {
    "id": "-fFiNg4hdGBK"
   },
   "source": [
    "You are interested in the relationship between `verified_status` and `video_view_count`. One approach is to examine the mean value of `video_view_count` for each group of `verified_status` in the sample data."
   ]
  },
  {
   "cell_type": "code",
   "execution_count": 59,
   "metadata": {
    "id": "2LGEWrdVXgI2"
   },
   "outputs": [
    {
     "name": "stdout",
     "output_type": "stream",
     "text": [
      "Mean video_view_count for each group in verified_status:\n",
      " verified_status\n",
      "not verified    265663.785339\n",
      "verified         91439.164167\n",
      "Name: video_view_count, dtype: float64\n"
     ]
    }
   ],
   "source": [
    "# Compute the mean `video_view_count` for each group in `verified_status`\n",
    "### YOUR CODE HERE ###\n",
    "mean_views_by_status = data.groupby('verified_status')['video_view_count'].mean()\n",
    "print(\"Mean video_view_count for each group in verified_status:\\n\", mean_views_by_status)\n"
   ]
  },
  {
   "cell_type": "markdown",
   "metadata": {
    "id": "QpFRQDaNzX6p"
   },
   "source": [
    "### **Task 3. Hypothesis testing**\n",
    "\n",
    "Before you conduct your hypothesis test, consider the following questions where applicable to complete your code response:\n",
    "\n",
    "1. Recall the difference between the null hypothesis and the alternative hypotheses. What are your hypotheses for this data project?"
   ]
  },
  {
   "cell_type": "markdown",
   "metadata": {
    "id": "ViBd7pL-tYHY"
   },
   "source": [
    "Null hypothesis: There isn't a difference in the quantity of views between TikTok videos uploaded by verified and unverified accounts (sampling variability or chance could be the cause of any observed differences in the sample data).\n",
    "\n",
    "Alternative hypothesis: There is a difference in the quantity of views for TikTok videos uploaded by verified and unverified accounts (any observable variation in the sample data is caused by a real variation in the corresponding population means)."
   ]
  },
  {
   "cell_type": "markdown",
   "metadata": {
    "id": "7Mn5GJ460HUS"
   },
   "source": [
    "\n",
    "\n",
    "Your goal in this step is to conduct a two-sample t-test. Recall the steps for conducting a hypothesis test:\n",
    "\n",
    "\n",
    "1.   State the null hypothesis and the alternative hypothesis\n",
    "2.   Choose a signficance level\n",
    "3.   Find the p-value\n",
    "4.   Reject or fail to reject the null hypothesis\n",
    "\n"
   ]
  },
  {
   "cell_type": "markdown",
   "metadata": {
    "id": "IVHpnfvNeTUA"
   },
   "source": [
    "You choose 5% as the significance level and proceed with a two-sample t-test."
   ]
  },
  {
   "cell_type": "code",
   "execution_count": 61,
   "metadata": {
    "id": "rdlsXg7Dhbrd"
   },
   "outputs": [
    {
     "data": {
      "text/plain": [
       "TtestResult(statistic=25.499441780633777, pvalue=2.6088823687177823e-120, df=1571.163074387424)"
      ]
     },
     "execution_count": 61,
     "metadata": {},
     "output_type": "execute_result"
    }
   ],
   "source": [
    "# Conduct a two-sample t-test to compare means\n",
    "### YOUR CODE HERE ###\n",
    "\n",
    "# Save each sample in a variable\n",
    "not_verified = data[data[\"verified_status\"] == \"not verified\"][\"video_view_count\"]\n",
    "verified = data[data[\"verified_status\"] == \"verified\"][\"video_view_count\"]\n",
    "\n",
    "# Implement a t-test using the two samples\n",
    "stats.ttest_ind(a=not_verified, b=verified, equal_var=False)"
   ]
  },
  {
   "cell_type": "markdown",
   "metadata": {
    "id": "BmCJLuE2vwpI"
   },
   "source": [
    "**Question:** Based on the p-value you got above, do you reject or fail to reject the null hypothesis?\n"
   ]
  },
  {
   "cell_type": "markdown",
   "metadata": {
    "id": "64Wq_VSaVsNm"
   },
   "source": [
    "==> ENTER YOUR RESPONSE HERE (Double Click)\n"
   ]
  },
  {
   "cell_type": "markdown",
   "metadata": {
    "id": "Ab4e-W3mzX6r"
   },
   "source": [
    "<img src=\"images/Execute.png\" width=\"100\" height=\"100\" align=left>\n",
    "\n",
    "## **PACE: Execute**\n",
    "\n",
    "Consider the questions in your PACE Strategy Documentto reflect on the Execute stage."
   ]
  },
  {
   "cell_type": "markdown",
   "metadata": {
    "id": "h1PRfiD3hcwE"
   },
   "source": [
    "## **Step 4: Communicate insights with stakeholders**"
   ]
  },
  {
   "cell_type": "markdown",
   "metadata": {
    "id": "ItreFaZKhvVw"
   },
   "source": [
    "*Ask yourself the following questions:*\n",
    "\n",
    "1. What business insight(s) can you draw from the result of your hypothesis test?"
   ]
  },
  {
   "cell_type": "markdown",
   "metadata": {
    "id": "lL__ZEvhtQIH"
   },
   "source": [
    "The data indicates that the average view counts of videos from verified accounts and videos from unverified accounts differ statistically significantly. This implies that these two sets of accounts may differ in important behavioral ways.\n",
    "\n",
    "It would be intriguing to look into the underlying reason behind this behavioral variation. Are there more videos that are marketed as clickbait, for instance, on unverified accounts? Or do unverified accounts contribute to the manipulation of view counts through spam bots?\n",
    "\n",
    "Developing a regression model based on verified_status will be the next stage. As predicting claim status is the ultimate goal, a regression model makes sense as the next step. To examine user behavior within this verified user group, one useful tool is a regression model for verified_status. Technical note for creating regression model: A logistic regression model will be necessary due to the skewed data and the notable variation in account types.\n"
   ]
  },
  {
   "cell_type": "markdown",
   "metadata": {},
   "source": [
    "**Congratulations!** You've completed this lab. However, you may not notice a green check mark next to this item on Coursera's platform. Please continue your progress regardless of the check mark. Just click on the \"save\" icon at the top of this notebook to ensure your work has been logged."
   ]
  }
 ],
 "metadata": {
  "colab": {
   "provenance": [],
   "toc_visible": true
  },
  "kernelspec": {
   "display_name": "Python 3",
   "language": "python",
   "name": "python3"
  },
  "language_info": {
   "codemirror_mode": {
    "name": "ipython",
    "version": 3
   },
   "file_extension": ".py",
   "mimetype": "text/x-python",
   "name": "python",
   "nbconvert_exporter": "python",
   "pygments_lexer": "ipython3",
   "version": "3.11.6"
  }
 },
 "nbformat": 4,
 "nbformat_minor": 1
}
